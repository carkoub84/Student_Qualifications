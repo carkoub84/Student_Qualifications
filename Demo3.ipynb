{
 "cells": [
  {
   "cell_type": "code",
   "execution_count": null,
   "id": "132b6711",
   "metadata": {},
   "outputs": [
    {
     "name": "stdout",
     "output_type": "stream",
     "text": [
      "Enter the student's last name (or 'ZZZ' to quit): ali\n",
      "Enter the student's first name: tazga\n",
      "Enter the student's GPA: 3.25\n",
      "tazga ali has made the Honor Roll.\n"
     ]
    }
   ],
   "source": [
    "# Student Qualification Checker\n",
    "# Author: Chabha Arkoub\n",
    "# File Name: student_qualification.py\n",
    "# Description: This app accepts student names and GPAs, then checks if the student qualifies for the Dean's List or Honor Roll.\n",
    "student_last_name = \"\"\n",
    "student_first_name = \"\"\n",
    "GPA = float\n",
    "\n",
    "while True:\n",
    "    last_name = input(\"Enter the student's last name (or 'ZZZ' to quit): \")\n",
    "    if last_name == 'ZZZ':\n",
    "        break\n",
    "\n",
    "    first_name = input(\"Enter the student's first name: \")\n",
    "    gpa = float(input(\"Enter the student's GPA: \"))\n",
    "\n",
    "    if gpa >= 3.5:\n",
    "        print(f\"{first_name} {last_name} has made the Dean's List.\")\n",
    "    elif gpa >= 3.25:\n",
    "        print(f\"{first_name} {last_name} has made the Honor Roll.\")\n",
    "    else:\n",
    "        print(f\"{first_name} {last_name} does not qualify for any special recognition.\")\n"
   ]
  },
  {
   "cell_type": "code",
   "execution_count": null,
   "id": "90623b8e",
   "metadata": {},
   "outputs": [],
   "source": [
    "\n"
   ]
  },
  {
   "cell_type": "code",
   "execution_count": null,
   "id": "0b59f7cf",
   "metadata": {},
   "outputs": [],
   "source": []
  },
  {
   "cell_type": "code",
   "execution_count": null,
   "id": "6ba927bf",
   "metadata": {},
   "outputs": [],
   "source": []
  }
 ],
 "metadata": {
  "kernelspec": {
   "display_name": "Python 3 (ipykernel)",
   "language": "python",
   "name": "python3"
  },
  "language_info": {
   "codemirror_mode": {
    "name": "ipython",
    "version": 3
   },
   "file_extension": ".py",
   "mimetype": "text/x-python",
   "name": "python",
   "nbconvert_exporter": "python",
   "pygments_lexer": "ipython3",
   "version": "3.11.5"
  }
 },
 "nbformat": 4,
 "nbformat_minor": 5
}
